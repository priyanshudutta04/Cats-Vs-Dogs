{
 "cells": [
  {
   "cell_type": "markdown",
   "id": "93bed08e",
   "metadata": {},
   "source": [
    "# Data Augmentation"
   ]
  },
  {
   "cell_type": "code",
   "execution_count": 1,
   "id": "6d07b15f",
   "metadata": {},
   "outputs": [],
   "source": [
    "import os\n",
    "os.chdir('F:/Programming/AI - Ml/CatsVsDogs')"
   ]
  },
  {
   "cell_type": "code",
   "execution_count": 21,
   "id": "6b34d3b2",
   "metadata": {},
   "outputs": [
    {
     "name": "stdout",
     "output_type": "stream",
     "text": [
      "F:\\Programming\\AI - Ml\\CatsVsDogs\n"
     ]
    }
   ],
   "source": [
    "import numpy as np\n",
    "print(os.getcwd())"
   ]
  },
  {
   "cell_type": "code",
   "execution_count": 7,
   "id": "e8f93ae0",
   "metadata": {},
   "outputs": [
    {
     "name": "stdout",
     "output_type": "stream",
     "text": [
      "Defaulting to user installation because normal site-packages is not writeable\n",
      "Collecting tensorflow\n",
      "  Downloading tensorflow-2.16.2-cp310-cp310-win_amd64.whl (2.1 kB)\n",
      "Collecting tensorflow-intel==2.16.2\n",
      "  Downloading tensorflow_intel-2.16.2-cp310-cp310-win_amd64.whl (376.9 MB)\n",
      "     -------------------------------------- 376.9/376.9 MB 3.8 MB/s eta 0:00:00\n",
      "Requirement already satisfied: grpcio<2.0,>=1.24.3 in c:\\users\\priyanshu\\appdata\\roaming\\python\\python310\\site-packages (from tensorflow-intel==2.16.2->tensorflow) (1.59.3)\n",
      "Requirement already satisfied: keras>=3.0.0 in c:\\users\\priyanshu\\appdata\\roaming\\python\\python310\\site-packages (from tensorflow-intel==2.16.2->tensorflow) (3.4.1)\n",
      "Requirement already satisfied: numpy<2.0.0,>=1.23.5 in d:\\software installations\\anaconda3\\lib\\site-packages (from tensorflow-intel==2.16.2->tensorflow) (1.23.5)\n",
      "Requirement already satisfied: wrapt>=1.11.0 in d:\\software installations\\anaconda3\\lib\\site-packages (from tensorflow-intel==2.16.2->tensorflow) (1.14.1)\n",
      "Requirement already satisfied: flatbuffers>=23.5.26 in c:\\users\\priyanshu\\appdata\\roaming\\python\\python310\\site-packages (from tensorflow-intel==2.16.2->tensorflow) (23.5.26)\n",
      "Collecting ml-dtypes~=0.3.1\n",
      "  Using cached ml_dtypes-0.3.2-cp310-cp310-win_amd64.whl (127 kB)\n",
      "Collecting libclang>=13.0.0\n",
      "  Using cached libclang-18.1.1-py2.py3-none-win_amd64.whl (26.4 MB)\n",
      "Requirement already satisfied: protobuf!=4.21.0,!=4.21.1,!=4.21.2,!=4.21.3,!=4.21.4,!=4.21.5,<5.0.0dev,>=3.20.3 in c:\\users\\priyanshu\\appdata\\roaming\\python\\python310\\site-packages (from tensorflow-intel==2.16.2->tensorflow) (4.23.4)\n",
      "Requirement already satisfied: absl-py>=1.0.0 in c:\\users\\priyanshu\\appdata\\roaming\\python\\python310\\site-packages (from tensorflow-intel==2.16.2->tensorflow) (1.4.0)\n",
      "Requirement already satisfied: typing-extensions>=3.6.6 in c:\\users\\priyanshu\\appdata\\roaming\\python\\python310\\site-packages (from tensorflow-intel==2.16.2->tensorflow) (4.8.0)\n",
      "Requirement already satisfied: requests<3,>=2.21.0 in d:\\software installations\\anaconda3\\lib\\site-packages (from tensorflow-intel==2.16.2->tensorflow) (2.28.1)\n",
      "Requirement already satisfied: packaging in c:\\users\\priyanshu\\appdata\\roaming\\python\\python310\\site-packages (from tensorflow-intel==2.16.2->tensorflow) (23.2)\n",
      "Collecting opt-einsum>=2.3.2\n",
      "  Using cached opt_einsum-3.3.0-py3-none-any.whl (65 kB)\n",
      "Collecting tensorflow-io-gcs-filesystem>=0.23.1\n",
      "  Using cached tensorflow_io_gcs_filesystem-0.31.0-cp310-cp310-win_amd64.whl (1.5 MB)\n",
      "Collecting tensorboard<2.17,>=2.16\n",
      "  Using cached tensorboard-2.16.2-py3-none-any.whl (5.5 MB)\n",
      "Requirement already satisfied: setuptools in d:\\software installations\\anaconda3\\lib\\site-packages (from tensorflow-intel==2.16.2->tensorflow) (65.6.3)\n",
      "Collecting h5py>=3.10.0\n",
      "  Downloading h5py-3.11.0-cp310-cp310-win_amd64.whl (3.0 MB)\n",
      "     ---------------------------------------- 3.0/3.0 MB 6.5 MB/s eta 0:00:00\n",
      "Collecting termcolor>=1.1.0\n",
      "  Using cached termcolor-2.4.0-py3-none-any.whl (7.7 kB)\n",
      "Collecting google-pasta>=0.1.1\n",
      "  Using cached google_pasta-0.2.0-py3-none-any.whl (57 kB)\n",
      "Collecting astunparse>=1.6.0\n",
      "  Using cached astunparse-1.6.3-py2.py3-none-any.whl (12 kB)\n",
      "Requirement already satisfied: six>=1.12.0 in d:\\software installations\\anaconda3\\lib\\site-packages (from tensorflow-intel==2.16.2->tensorflow) (1.16.0)\n",
      "Collecting gast!=0.5.0,!=0.5.1,!=0.5.2,>=0.2.1\n",
      "  Downloading gast-0.6.0-py3-none-any.whl (21 kB)\n",
      "Requirement already satisfied: wheel<1.0,>=0.23.0 in d:\\software installations\\anaconda3\\lib\\site-packages (from astunparse>=1.6.0->tensorflow-intel==2.16.2->tensorflow) (0.38.4)\n",
      "Requirement already satisfied: rich in c:\\users\\priyanshu\\appdata\\roaming\\python\\python310\\site-packages (from keras>=3.0.0->tensorflow-intel==2.16.2->tensorflow) (13.5.2)\n",
      "Requirement already satisfied: namex in c:\\users\\priyanshu\\appdata\\roaming\\python\\python310\\site-packages (from keras>=3.0.0->tensorflow-intel==2.16.2->tensorflow) (0.0.8)\n",
      "Requirement already satisfied: optree in c:\\users\\priyanshu\\appdata\\roaming\\python\\python310\\site-packages (from keras>=3.0.0->tensorflow-intel==2.16.2->tensorflow) (0.12.1)\n",
      "Requirement already satisfied: urllib3<1.27,>=1.21.1 in d:\\software installations\\anaconda3\\lib\\site-packages (from requests<3,>=2.21.0->tensorflow-intel==2.16.2->tensorflow) (1.26.14)\n",
      "Requirement already satisfied: charset-normalizer<3,>=2 in d:\\software installations\\anaconda3\\lib\\site-packages (from requests<3,>=2.21.0->tensorflow-intel==2.16.2->tensorflow) (2.0.4)\n",
      "Requirement already satisfied: certifi>=2017.4.17 in d:\\software installations\\anaconda3\\lib\\site-packages (from requests<3,>=2.21.0->tensorflow-intel==2.16.2->tensorflow) (2022.12.7)\n",
      "Requirement already satisfied: idna<4,>=2.5 in d:\\software installations\\anaconda3\\lib\\site-packages (from requests<3,>=2.21.0->tensorflow-intel==2.16.2->tensorflow) (3.4)\n",
      "Requirement already satisfied: markdown>=2.6.8 in d:\\software installations\\anaconda3\\lib\\site-packages (from tensorboard<2.17,>=2.16->tensorflow-intel==2.16.2->tensorflow) (3.4.1)\n",
      "Requirement already satisfied: werkzeug>=1.0.1 in d:\\software installations\\anaconda3\\lib\\site-packages (from tensorboard<2.17,>=2.16->tensorflow-intel==2.16.2->tensorflow) (2.2.2)\n",
      "Requirement already satisfied: tensorboard-data-server<0.8.0,>=0.7.0 in c:\\users\\priyanshu\\appdata\\roaming\\python\\python310\\site-packages (from tensorboard<2.17,>=2.16->tensorflow-intel==2.16.2->tensorflow) (0.7.1)\n",
      "Requirement already satisfied: MarkupSafe>=2.1.1 in d:\\software installations\\anaconda3\\lib\\site-packages (from werkzeug>=1.0.1->tensorboard<2.17,>=2.16->tensorflow-intel==2.16.2->tensorflow) (2.1.1)\n",
      "Requirement already satisfied: pygments<3.0.0,>=2.13.0 in c:\\users\\priyanshu\\appdata\\roaming\\python\\python310\\site-packages (from rich->keras>=3.0.0->tensorflow-intel==2.16.2->tensorflow) (2.15.1)\n",
      "Requirement already satisfied: markdown-it-py>=2.2.0 in c:\\users\\priyanshu\\appdata\\roaming\\python\\python310\\site-packages (from rich->keras>=3.0.0->tensorflow-intel==2.16.2->tensorflow) (3.0.0)\n",
      "Requirement already satisfied: mdurl~=0.1 in c:\\users\\priyanshu\\appdata\\roaming\\python\\python310\\site-packages (from markdown-it-py>=2.2.0->rich->keras>=3.0.0->tensorflow-intel==2.16.2->tensorflow) (0.1.2)\n",
      "Installing collected packages: libclang, termcolor, tensorflow-io-gcs-filesystem, opt-einsum, ml-dtypes, h5py, google-pasta, gast, astunparse, tensorboard, tensorflow-intel, tensorflow\n",
      "  Attempting uninstall: ml-dtypes\n",
      "    Found existing installation: ml-dtypes 0.4.0\n",
      "    Uninstalling ml-dtypes-0.4.0:\n",
      "      Successfully uninstalled ml-dtypes-0.4.0\n",
      "Successfully installed astunparse-1.6.3 gast-0.6.0 google-pasta-0.2.0 h5py-3.11.0 libclang-18.1.1 ml-dtypes-0.3.2 opt-einsum-3.3.0 tensorboard-2.16.2 tensorflow-2.16.2 tensorflow-intel-2.16.2 tensorflow-io-gcs-filesystem-0.31.0 termcolor-2.4.0\n",
      "Note: you may need to restart the kernel to use updated packages.\n"
     ]
    },
    {
     "name": "stderr",
     "output_type": "stream",
     "text": [
      "  WARNING: The script tensorboard.exe is installed in 'C:\\Users\\PRIYANSHU\\AppData\\Roaming\\Python\\Python310\\Scripts' which is not on PATH.\n",
      "  Consider adding this directory to PATH or, if you prefer to suppress this warning, use --no-warn-script-location.\n",
      "  WARNING: The scripts import_pb_to_tensorboard.exe, saved_model_cli.exe, tensorboard.exe, tf_upgrade_v2.exe, tflite_convert.exe, toco.exe and toco_from_protos.exe are installed in 'C:\\Users\\PRIYANSHU\\AppData\\Roaming\\Python\\Python310\\Scripts' which is not on PATH.\n",
      "  Consider adding this directory to PATH or, if you prefer to suppress this warning, use --no-warn-script-location.\n"
     ]
    }
   ],
   "source": [
    "# pip install tensorflow\n",
    "# pip install keras"
   ]
  },
  {
   "cell_type": "code",
   "execution_count": 14,
   "id": "1d820878",
   "metadata": {},
   "outputs": [],
   "source": [
    "from  tensorflow.keras.preprocessing.image import ImageDataGenerator, array_to_img, img_to_array, load_img"
   ]
  },
  {
   "cell_type": "code",
   "execution_count": 16,
   "id": "fd149f04",
   "metadata": {},
   "outputs": [],
   "source": [
    "datagen=ImageDataGenerator(\n",
    "    rotation_range=40,\n",
    "    width_shift_range=0.2,\n",
    "    height_shift_range=0.2,\n",
    "    horizontal_flip=False,\n",
    "    shear_range=0.2,\n",
    "    zoom_range=0.2,     \n",
    ")"
   ]
  },
  {
   "cell_type": "code",
   "execution_count": 26,
   "id": "6dc23877",
   "metadata": {},
   "outputs": [],
   "source": [
    "\n",
    "img_1=load_img('data/aug/dog.14.jpg')\n",
    "x_1=img_to_array(img_1)\n",
    "x_1=x_1.reshape((1,)+x_1.shape)\n",
    "\n",
    "\n",
    "\n",
    "img_2=load_img('data/aug/cat.684.jpg')\n",
    "x_2=img_to_array(img_2)\n",
    "x_2=x_2.reshape((1,)+x_2.shape)\n"
   ]
  },
  {
   "cell_type": "code",
   "execution_count": 36,
   "id": "da4a2409",
   "metadata": {},
   "outputs": [],
   "source": [
    "i=0\n",
    "img=x_1\n",
    "\n",
    "for batch in datagen.flow(x_1,batch_size=1,save_to_dir='assets/preview',save_prefix='dog',save_format='jpg',):\n",
    "    i+=1\n",
    "    if i>=20:\n",
    "        break\n",
    "        \n",
    "i=0       \n",
    "for batch in datagen.flow(x_2,batch_size=1,save_to_dir='assets/preview',save_prefix='cat',save_format='jpg',):\n",
    "    i+=1\n",
    "    if i>=20:\n",
    "        break\n",
    "        "
   ]
  },
  {
   "cell_type": "code",
   "execution_count": null,
   "id": "0e0b3b57",
   "metadata": {},
   "outputs": [],
   "source": []
  }
 ],
 "metadata": {
  "kernelspec": {
   "display_name": "Python 3 (ipykernel)",
   "language": "python",
   "name": "python3"
  },
  "language_info": {
   "codemirror_mode": {
    "name": "ipython",
    "version": 3
   },
   "file_extension": ".py",
   "mimetype": "text/x-python",
   "name": "python",
   "nbconvert_exporter": "python",
   "pygments_lexer": "ipython3",
   "version": "3.10.9"
  }
 },
 "nbformat": 4,
 "nbformat_minor": 5
}
